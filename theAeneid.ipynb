{
 "cells": [
  {
   "cell_type": "code",
   "execution_count": 1,
   "id": "04fc55ae",
   "metadata": {},
   "outputs": [
    {
     "data": {
      "text/plain": [
       "['130 Portended a quick death for mariners.\\n',\n",
       " 'Aeneas on the instant felt his knees\\n',\n",
       " 'Go numb and slack, and stretched both hands to heaven, Groaning out:\\n',\n",
       " '\"Triply lucky, all you men\\n',\n",
       " \"135 To whom death came before your fathers' eyes Below the wall at Troy! Bravest Danaan,\\n\",\n",
       " 'Diomedes, why could I not go down\\n',\n",
       " 'When you had wounded me, and lose my life\\n',\n",
       " \"On Ilium's battlefield? Our Hector lies there,\\n\",\n",
       " \"140 Torn by Achilles' weapon; there Sarpedon, Our giant fighter, lies; and there the river\\n\",\n",
       " 'Simoïs washes down so many shields\\n']"
      ]
     },
     "execution_count": 1,
     "metadata": {},
     "output_type": "execute_result"
    }
   ],
   "source": [
    "f=open('./The-Aeneid-_Vintage-Classics_-Virgil.txt')\n",
    "texts=f.readlines()\n",
    "f.close()\n",
    "texts[110:120]"
   ]
  },
  {
   "cell_type": "code",
   "execution_count": 6,
   "id": "2835d963",
   "metadata": {},
   "outputs": [
    {
     "name": "stderr",
     "output_type": "stream",
     "text": [
      "[nltk_data] Downloading package averaged_perceptron_tagger to\n",
      "[nltk_data]     /Users/macus/nltk_data...\n",
      "[nltk_data]   Unzipping taggers/averaged_perceptron_tagger.zip.\n",
      "[nltk_data] Downloading package punkt to /Users/macus/nltk_data...\n",
      "[nltk_data]   Package punkt is already up-to-date!\n",
      "[nltk_data] Downloading package wordnet to /Users/macus/nltk_data...\n",
      "[nltk_data]   Unzipping corpora/wordnet.zip.\n",
      "[nltk_data] Downloading package stopwords to /Users/macus/nltk_data...\n",
      "[nltk_data]   Unzipping corpora/stopwords.zip.\n"
     ]
    },
    {
     "data": {
      "text/plain": [
       "True"
      ]
     },
     "execution_count": 6,
     "metadata": {},
     "output_type": "execute_result"
    }
   ],
   "source": [
    "import nltk\n",
    "# nltk.download('averaged_perceptron_tagger')\n",
    "# nltk.download('punkt')\n",
    "# nltk.download('wordnet')\n",
    "# nltk.download('stopwords')"
   ]
  },
  {
   "cell_type": "code",
   "execution_count": 7,
   "id": "1d75a0d9",
   "metadata": {},
   "outputs": [
    {
     "data": {
      "text/plain": [
       "[['portended', 'a', 'quick', 'death', 'for', 'mariners'],\n",
       " ['aeneas', 'on', 'the', 'instant', 'felt', 'his', 'knees'],\n",
       " ['go',\n",
       "  'numb',\n",
       "  'and',\n",
       "  'slack',\n",
       "  'and',\n",
       "  'stretched',\n",
       "  'both',\n",
       "  'hands',\n",
       "  'to',\n",
       "  'heaven',\n",
       "  'groaning',\n",
       "  'out'],\n",
       " ['triply', 'lucky', 'all', 'you', 'men'],\n",
       " ['to',\n",
       "  'whom',\n",
       "  'death',\n",
       "  'came',\n",
       "  'before',\n",
       "  'your',\n",
       "  'fathers',\n",
       "  'eyes',\n",
       "  'below',\n",
       "  'the',\n",
       "  'wall',\n",
       "  'at',\n",
       "  'troy',\n",
       "  'bravest',\n",
       "  'danaan'],\n",
       " ['diomedes', 'why', 'could', 'i', 'not', 'go', 'down'],\n",
       " ['when', 'you', 'had', 'wounded', 'me', 'and', 'lose', 'my', 'life'],\n",
       " ['on', 'ilium', 's', 'battlefield', 'our', 'hector', 'lies', 'there'],\n",
       " ['torn',\n",
       "  'by',\n",
       "  'achilles',\n",
       "  'weapon',\n",
       "  'there',\n",
       "  'sarpedon',\n",
       "  'our',\n",
       "  'giant',\n",
       "  'fighter',\n",
       "  'lies',\n",
       "  'and',\n",
       "  'there',\n",
       "  'the',\n",
       "  'river'],\n",
       " ['simoïs', 'washes', 'down', 'so', 'many', 'shields']]"
      ]
     },
     "execution_count": 7,
     "metadata": {},
     "output_type": "execute_result"
    }
   ],
   "source": [
    "# 删除数字/标点符号，分词\n",
    "import string\n",
    "from nltk import word_tokenize\n",
    "\n",
    "remove_chars = string.digits+string.punctuation +'\\n'\n",
    "remove_map = str.maketrans(remove_chars, \" \" * len(remove_chars))\n",
    "\n",
    "sentences_list = [word_tokenize(t.translate(remove_map).lower()) for t in texts]\n",
    "sentences_list[110:120]"
   ]
  },
  {
   "cell_type": "code",
   "execution_count": 8,
   "id": "590238e0",
   "metadata": {},
   "outputs": [
    {
     "name": "stdout",
     "output_type": "stream",
     "text": [
      "72 ['scepter', 'in', 'hand', 'he', 'mollifies', 'their', 'fury']\n",
      "158\n"
     ]
    }
   ],
   "source": [
    "search_word = 'hand'\n",
    "for i,s in enumerate(sentences_list):\n",
    "    if search_word in s:\n",
    "        print(i,s)\n",
    "        break\n",
    "count = 0\n",
    "for s in sentences_list:\n",
    "    count += s.count(search_word)\n",
    "print(count)"
   ]
  },
  {
   "cell_type": "code",
   "execution_count": 9,
   "id": "2ff89bae",
   "metadata": {},
   "outputs": [
    {
     "name": "stdout",
     "output_type": "stream",
     "text": [
      "{'didn', 'here', 'myself', \"wasn't\", 'no', 'isn', 'than', 'into', \"hasn't\", 'shouldn', 'doing', 'until', 'under', \"won't\", 'through', 'how', 'being', 'or', 'him', 'very', 'has', \"shouldn't\", 'hers', \"wouldn't\", 'were', 'if', 'haven', 'i', \"haven't\", \"she's\", 'theirs', 'we', 'most', 'hasn', 'yours', 'why', 'nor', 'm', 'hadn', 'with', 'up', 'because', \"it's\", 'each', \"don't\", \"that'll\", 'be', 'y', 'having', 'an', 'all', 'his', 'only', \"you've\", 'did', 'it', 't', 'not', 'needn', 'below', 'whom', 'that', 'and', 'from', 'this', 'what', 'some', 'll', 'while', 'both', 'off', 'these', 'further', 'after', 'one', 'which', 'just', \"isn't\", 'does', 'me', \"you'll\", 'her', \"should've\", 'my', 'so', 'as', 'a', \"aren't\", 'more', \"couldn't\", 'other', 'own', 'themselves', 'doesn', 'too', 'few', 'there', \"you're\", 'its', 'of', 'on', 'shan', 'them', 'above', 'at', 'to', \"didn't\", 'mightn', 'out', 'herself', 're', 'ain', \"doesn't\", 'himself', 'between', 'against', 'their', 'have', 'about', \"weren't\", 'am', \"mightn't\", 'o', 'our', 'should', 've', 'same', 'but', 'don', \"needn't\", 'those', 'ma', 'itself', \"you'd\", 'can', 'been', 'will', 'had', 'any', 's', 'ourselves', 'such', 'for', 'then', 'when', 'd', 'aren', 'in', 'won', 'are', 'once', 'they', 'couldn', 'mustn', 'down', 'weren', \"mustn't\", 'over', 'again', 'before', 'where', 'was', 'wasn', 'wouldn', 'now', 'by', \"shan't\", 'your', 'who', \"hadn't\", 'yourself', 'ours', 'is', 'you', 'he', 'yourselves', 'do', 'the', 'she', 'during'}\n"
     ]
    },
    {
     "data": {
      "text/plain": [
       "[['portended', 'quick', 'death', 'mariners'],\n",
       " ['aeneas', 'instant', 'felt', 'knees'],\n",
       " ['go', 'numb', 'slack', 'stretched', 'hands', 'heaven', 'groaning'],\n",
       " ['triply', 'lucky', 'men'],\n",
       " ['death', 'came', 'fathers', 'eyes', 'wall', 'troy', 'bravest', 'danaan'],\n",
       " ['diomedes', 'could', 'go'],\n",
       " ['wounded', 'lose', 'life'],\n",
       " ['ilium', 'battlefield', 'hector', 'lies'],\n",
       " ['torn',\n",
       "  'achilles',\n",
       "  'weapon',\n",
       "  'sarpedon',\n",
       "  'giant',\n",
       "  'fighter',\n",
       "  'lies',\n",
       "  'river'],\n",
       " ['simoïs', 'washes', 'many', 'shields']]"
      ]
     },
     "execution_count": 9,
     "metadata": {},
     "output_type": "execute_result"
    }
   ],
   "source": [
    "# delete the stopwords\n",
    "from nltk.corpus import stopwords\n",
    "stopWords = set(stopwords.words('english'))\n",
    "stopWords |= {'one'}\n",
    "print(stopWords)\n",
    "\n",
    "sentences_without_sw = [[w for w in s if w not in stopWords] for s in sentences_list]\n",
    "sentences_without_sw[110:120]"
   ]
  },
  {
   "cell_type": "code",
   "execution_count": 10,
   "id": "6ac5eea7",
   "metadata": {},
   "outputs": [
    {
     "name": "stdout",
     "output_type": "stream",
     "text": [
      "72 ['scepter', 'hand', 'mollifies', 'fury']\n",
      "158\n"
     ]
    }
   ],
   "source": [
    "search_word = 'hand'\n",
    "for i,s in enumerate(sentences_without_sw):\n",
    "    if search_word in s:\n",
    "        print(i,s)\n",
    "        break\n",
    "count = 0\n",
    "for s in sentences_without_sw:\n",
    "    count += s.count(search_word)\n",
    "print(count)"
   ]
  },
  {
   "cell_type": "code",
   "execution_count": 11,
   "id": "ec2337ab",
   "metadata": {},
   "outputs": [
    {
     "data": {
      "text/plain": [
       "[[('portended', 'VBN'), ('quick', 'JJ'), ('death', 'NN'), ('mariners', 'NNS')],\n",
       " [('aeneas', 'NNS'), ('instant', 'VBP'), ('felt', 'VBD'), ('knees', 'NNS')],\n",
       " [('go', 'VB'),\n",
       "  ('numb', 'JJ'),\n",
       "  ('slack', 'NN'),\n",
       "  ('stretched', 'VBD'),\n",
       "  ('hands', 'NNS'),\n",
       "  ('heaven', 'JJ'),\n",
       "  ('groaning', 'VBG')],\n",
       " [('triply', 'NN'), ('lucky', 'JJ'), ('men', 'NNS')],\n",
       " [('death', 'NN'),\n",
       "  ('came', 'VBD'),\n",
       "  ('fathers', 'NNS'),\n",
       "  ('eyes', 'VBP'),\n",
       "  ('wall', 'NN'),\n",
       "  ('troy', 'NN'),\n",
       "  ('bravest', 'JJS'),\n",
       "  ('danaan', 'NN')],\n",
       " [('diomedes', 'NNS'), ('could', 'MD'), ('go', 'VB')],\n",
       " [('wounded', 'VBN'), ('lose', 'JJ'), ('life', 'NN')],\n",
       " [('ilium', 'NN'), ('battlefield', 'NN'), ('hector', 'NN'), ('lies', 'NNS')],\n",
       " [('torn', 'JJ'),\n",
       "  ('achilles', 'NNS'),\n",
       "  ('weapon', 'IN'),\n",
       "  ('sarpedon', 'NN'),\n",
       "  ('giant', 'NN'),\n",
       "  ('fighter', 'NN'),\n",
       "  ('lies', 'VBZ'),\n",
       "  ('river', 'NN')],\n",
       " [('simoïs', 'JJ'), ('washes', 'NNS'), ('many', 'JJ'), ('shields', 'NNS')]]"
      ]
     },
     "execution_count": 11,
     "metadata": {},
     "output_type": "execute_result"
    }
   ],
   "source": [
    "# 标注词形\n",
    "from nltk import pos_tag\n",
    "\n",
    "tagged_sentences = [pos_tag(s) for s in sentences_without_sw]\n",
    "tagged_sentences[110:120]"
   ]
  },
  {
   "cell_type": "code",
   "execution_count": 12,
   "id": "78206be1",
   "metadata": {},
   "outputs": [
    {
     "data": {
      "text/plain": [
       "[['portend', 'quick', 'death', 'mariner'],\n",
       " ['aeneas', 'instant', 'felt', 'knee'],\n",
       " ['go', 'numb', 'slack', 'stretch', 'hand', 'heaven', 'groan'],\n",
       " ['triply', 'lucky', 'men'],\n",
       " ['death', 'come', 'father', 'eye', 'wall', 'troy', 'brave', 'danaan'],\n",
       " ['diomedes', 'could', 'go'],\n",
       " ['wound', 'lose', 'life'],\n",
       " ['ilium', 'battlefield', 'hector', 'lie'],\n",
       " ['torn',\n",
       "  'achilles',\n",
       "  'weapon',\n",
       "  'sarpedon',\n",
       "  'giant',\n",
       "  'fighter',\n",
       "  'lie',\n",
       "  'river'],\n",
       " ['simoïs', 'wash', 'many', 'shield']]"
      ]
     },
     "execution_count": 12,
     "metadata": {},
     "output_type": "execute_result"
    }
   ],
   "source": [
    "# 词形还原\n",
    "from nltk.corpus import wordnet\n",
    "from nltk import WordNetLemmatizer\n",
    "\n",
    "lemmatizer = WordNetLemmatizer()\n",
    "tag_dict = {\"J\": wordnet.ADJ,\n",
    "            \"N\": wordnet.NOUN,\n",
    "            \"V\": wordnet.VERB,\n",
    "            \"R\": wordnet.ADV}\n",
    "lemmatized_sentences = [[\n",
    "        lemmatizer.lemmatize(w[0],tag_dict[w[1][0]]) if tag_dict.get(w[1][0], None) else w[0] for w in s \n",
    "    ] for s in tagged_sentences]\n",
    "lemmatized_sentences[110:120]"
   ]
  },
  {
   "cell_type": "code",
   "execution_count": 13,
   "id": "7ccca8aa",
   "metadata": {},
   "outputs": [
    {
     "name": "stdout",
     "output_type": "stream",
     "text": [
      "72 ['scepter', 'hand', 'mollifies', 'fury']\n",
      "255\n"
     ]
    }
   ],
   "source": [
    "search_word = 'hand'\n",
    "for i,s in enumerate(lemmatized_sentences):\n",
    "    if search_word in s:\n",
    "        print(i,s)\n",
    "        break\n",
    "count = 0\n",
    "for s in lemmatized_sentences:\n",
    "    count += s.count(search_word)\n",
    "print(count)"
   ]
  },
  {
   "cell_type": "code",
   "execution_count": 14,
   "id": "892f52c4",
   "metadata": {},
   "outputs": [
    {
     "name": "stdout",
     "output_type": "stream",
     "text": [
      "woman\n",
      "women\n",
      "men\n"
     ]
    }
   ],
   "source": [
    "# 提取词干 暂时不做\n",
    "from nltk import PorterStemmer\n",
    "stemmer = PorterStemmer()\n",
    "print(lemmatizer.lemmatize('women','n'))\n",
    "print(stemmer.stem('women'))\n",
    "print(lemmatizer.lemmatize('men','n'))"
   ]
  },
  {
   "cell_type": "code",
   "execution_count": 15,
   "id": "1e9420cf",
   "metadata": {},
   "outputs": [],
   "source": [
    "# 词袋\n",
    "# from gensim import corpora\n",
    "# Dictionary = corpora.Dictionary(lemmatized_sentences)\n",
    "# sentence_bows = [Dictionary.doc2bow(s) for s in lemmatized_sentences]\n",
    "# sentence_bows[110:120]"
   ]
  },
  {
   "cell_type": "code",
   "execution_count": 16,
   "id": "3db1fe0c",
   "metadata": {
    "scrolled": true
   },
   "outputs": [
    {
     "name": "stdout",
     "output_type": "stream",
     "text": [
      "53438 53473\n"
     ]
    },
    {
     "data": {
      "text/plain": [
       "12"
      ]
     },
     "execution_count": 16,
     "metadata": {},
     "output_type": "execute_result"
    }
   ],
   "source": [
    "theAeneid_cleaned = \"\"\n",
    "n_words = 0\n",
    "for s in lemmatized_sentences:\n",
    "    theAeneid_cleaned += ' '.join(s)+' '\n",
    "    n_words += len(s)\n",
    "    \n",
    "books = [s.split(' ') for s in theAeneid_cleaned.split('book')[1:]]\n",
    "theAeneid_cleaned = theAeneid_cleaned.split(' ')\n",
    "\n",
    "print(n_words, len(theAeneid_cleaned))\n",
    "len(books)"
   ]
  },
  {
   "cell_type": "code",
   "execution_count": 17,
   "id": "a0d08fe9",
   "metadata": {},
   "outputs": [
    {
     "name": "stdout",
     "output_type": "stream",
     "text": [
      "255\n"
     ]
    }
   ],
   "source": [
    "search_word = 'hand'\n",
    "print(theAeneid_cleaned.count(search_word))"
   ]
  },
  {
   "cell_type": "code",
   "execution_count": 18,
   "id": "434629d5",
   "metadata": {},
   "outputs": [
    {
     "name": "stdout",
     "output_type": "stream",
     "text": [
      "[('come', 430), ('take', 364), ('make', 316), ('aeneas', 297), ('go', 283), ('men', 280), ('god', 262), ('great', 262), ('hand', 255), ('give', 249), ('father', 241), ('sea', 237), ('man', 222), ('see', 207), ('trojan', 199), ('war', 196), ('call', 195), ('say', 194), ('arm', 193), ('high', 189)]\n"
     ]
    }
   ],
   "source": [
    "# 统计词频\n",
    "from nltk.probability import FreqDist\n",
    "fd = FreqDist(theAeneid_cleaned)\n",
    "print(fd.most_common(20))"
   ]
  },
  {
   "cell_type": "code",
   "execution_count": 19,
   "id": "c5a9c2f3",
   "metadata": {},
   "outputs": [
    {
     "name": "stdout",
     "output_type": "stream",
     "text": [
      "BOOK 1:[('sea', 43), ('aeneas', 34), ('ship', 33), ('make', 31), ('come', 30), ('great', 28), ('take', 26), ('give', 25), ('men', 22), ('high', 20)]\n",
      "BOOK 2:[('come', 43), ('go', 41), ('father', 29), ('us', 29), ('god', 29), ('take', 26), ('make', 26), ('city', 24), ('troy', 24), ('say', 22)]\n",
      "BOOK 3:[('sea', 46), ('take', 32), ('us', 30), ('god', 30), ('make', 28), ('come', 25), ('land', 24), ('sail', 23), ('wind', 22), ('put', 22)]\n",
      "BOOK 4:[('come', 28), ('take', 27), ('go', 26), ('god', 23), ('dido', 22), ('give', 20), ('love', 20), ('way', 20), ('sister', 19), ('away', 18)]\n",
      "BOOK 5:[('come', 38), ('aeneas', 37), ('sea', 36), ('give', 31), ('ship', 27), ('take', 27), ('great', 22), ('acestës', 22), ('place', 21), ('hand', 20)]\n",
      "BOOK 6:[('come', 48), ('aeneas', 34), ('see', 34), ('great', 33), ('take', 33), ('go', 30), ('soul', 30), ('god', 27), ('way', 26), ('son', 26)]\n",
      "BOOK 7:[('come', 34), ('war', 32), ('father', 32), ('king', 31), ('take', 29), ('men', 27), ('son', 27), ('go', 23), ('great', 21), ('make', 21)]\n",
      "BOOK 8:[('come', 36), ('make', 34), ('god', 26), ('aeneas', 26), ('take', 25), ('great', 25), ('hand', 22), ('arm', 22), ('war', 21), ('son', 20)]\n",
      "BOOK 9:[('take', 40), ('men', 38), ('turnus', 29), ('come', 29), ('trojan', 27), ('arm', 26), ('man', 26), ('make', 25), ('go', 23), ('wall', 23)]\n",
      "BOOK 10:[('aeneas', 49), ('come', 44), ('take', 37), ('father', 31), ('make', 31), ('man', 30), ('men', 29), ('turnus', 29), ('arm', 28), ('son', 28)]\n",
      "BOOK 11:[('make', 37), ('take', 37), ('come', 36), ('hand', 36), ('man', 30), ('war', 29), ('men', 28), ('trojan', 28), ('let', 27), ('go', 27)]\n",
      "BOOK 12:[('turnus', 65), ('aeneas', 44), ('hand', 41), ('come', 39), ('go', 29), ('let', 28), ('make', 28), ('spear', 28), ('men', 26), ('trojan', 26)]\n"
     ]
    }
   ],
   "source": [
    "# 分章节词频统计\n",
    "for i,b in enumerate(books):\n",
    "    fdist = FreqDist(b)\n",
    "    tops=fdist.most_common(10)\n",
    "    print(f\"BOOK {i+1}:{tops}\")"
   ]
  },
  {
   "cell_type": "code",
   "execution_count": 65,
   "id": "6ac7653b",
   "metadata": {},
   "outputs": [
    {
     "data": {
      "text/plain": [
       "Text(0.5, 1.0, 'Top 20 Most Frequent Words in the Aeneid')"
      ]
     },
     "execution_count": 65,
     "metadata": {},
     "output_type": "execute_result"
    },
    {
     "data": {
      "image/png": "[encoded data removed]",
      "text/plain": [
       "<Figure size 1120x560 with 1 Axes>"
      ]
     },
     "metadata": {
      "needs_background": "light"
     },
     "output_type": "display_data"
    }
   ],
   "source": [
    "import numpy as np\n",
    "import matplotlib.pyplot as plt\n",
    "\n",
    "datas = np.array([('come', 430), ('take', 364), ('make', 316), ('Aeneas', 297), \n",
    "                  ('go', 283), ('men', 280), ('God', 262), ('great', 262), ('hand', 255), \n",
    "                  ('give', 249), ('father', 241), ('sea', 237), ('man', 222), ('see', 207), \n",
    "                  ('trojan', 199), ('war', 196), ('call', 195), ('say', 194), ('arm', 193), \n",
    "                  ('high', 189)])\n",
    "x, y = datas[:,0], datas[:,1].astype(np.int64)\n",
    "\n",
    "fig, ax = plt.subplots(figsize=(14, 7),dpi=80)\n",
    "plt.ylim(100,500)\n",
    "ax.bar(x=x, height=y, width=0.8,  # 柱子宽度，默认0.8，两根柱子中心的距离默认为1.0\n",
    "    align=\"center\",  # 柱子的对齐方式，'center' or 'edge'\n",
    "    color=\"grey\",  # 柱子颜色\n",
    "   # edgecolor=\"red\",  # 柱子边框的颜色\n",
    "    linewidth=2.0  )\n",
    "ax.set_title(\"Top 20 Most Frequent Words in the Aeneid\", fontsize=18)"
   ]
  },
  {
   "cell_type": "code",
   "execution_count": 75,
   "id": "c09f87f9",
   "metadata": {},
   "outputs": [
    {
     "data": {
      "text/plain": [
       "Text(0.5, 1.0, 'Top 10 Most Frequent Words in Book IV')"
      ]
     },
     "execution_count": 75,
     "metadata": {},
     "output_type": "execute_result"
    },
    {
     "data": {
      "image/png": "[encoded data removed]",
      "text/plain": [
       "<Figure size 800x400 with 1 Axes>"
      ]
     },
     "metadata": {
      "needs_background": "light"
     },
     "output_type": "display_data"
    }
   ],
   "source": [
    "import numpy as np\n",
    "import matplotlib.pyplot as plt\n",
    "\n",
    "datas = np.array([('come', 28), ('take', 27), ('go', 26), ('God', 23), ('Dido', 22), \n",
    "                  ('give', 20), ('love', 20), ('way', 20), ('sister', 19), ('away', 18)])\n",
    "x, y = datas[:,0], datas[:,1].astype(np.int64)\n",
    "\n",
    "fig, ax = plt.subplots(figsize=(10, 5),dpi=80)\n",
    "plt.ylim(14,30)\n",
    "ax.bar(x=x, height=y, width=0.6,  # 柱子宽度，默认0.8，两根柱子中心的距离默认为1.0\n",
    "    align=\"center\",  # 柱子的对齐方式，'center' or 'edge'\n",
    "    color=\"grey\",  # 柱子颜色\n",
    "   # edgecolor=\"red\",  # 柱子边框的颜色\n",
    "    linewidth=2.0  )\n",
    "ax.set_title(\"Top 10 Most Frequent Words in Book IV\", fontsize=15)"
   ]
  },
  {
   "cell_type": "code",
   "execution_count": 77,
   "id": "ab5b1720",
   "metadata": {},
   "outputs": [
    {
     "data": {
      "text/plain": [
       "Text(0.5, 1.0, 'Top 10 Most Frequent Words in Book XII')"
      ]
     },
     "execution_count": 77,
     "metadata": {},
     "output_type": "execute_result"
    },
    {
     "data": {
      "image/png": "[encoded data removed]",
      "text/plain": [
       "<Figure size 800x400 with 1 Axes>"
      ]
     },
     "metadata": {
      "needs_background": "light"
     },
     "output_type": "display_data"
    }
   ],
   "source": [
    "import numpy as np\n",
    "import matplotlib.pyplot as plt\n",
    "\n",
    "datas = np.array([('Turnus', 65), ('Aeneas', 44), ('hand', 41), ('come', 39), ('go', 29), \n",
    "                  ('let', 28), ('make', 28), ('spear', 28), ('men', 26), ('Trojan', 26)])\n",
    "x, y = datas[:,0], datas[:,1].astype(np.int64)\n",
    "\n",
    "fig, ax = plt.subplots(figsize=(10, 5),dpi=80)\n",
    "plt.ylim(20,70)\n",
    "ax.bar(x=x, height=y, width=0.6,  # 柱子宽度，默认0.8，两根柱子中心的距离默认为1.0\n",
    "    align=\"center\",  # 柱子的对齐方式，'center' or 'edge'\n",
    "    color=\"grey\",  # 柱子颜色\n",
    "   # edgecolor=\"red\",  # 柱子边框的颜色\n",
    "    linewidth=2.0  )\n",
    "ax.set_title(\"Top 10 Most Frequent Words in Book XII\", fontsize=15)"
   ]
  },
  {
   "cell_type": "code",
   "execution_count": 22,
   "id": "4c07f877",
   "metadata": {},
   "outputs": [
    {
     "data": {
      "text/plain": [
       "Text(0.5, 1.0, 'Top 20 Most Frequent Words in the Aeneid')"
      ]
     },
     "execution_count": 22,
     "metadata": {},
     "output_type": "execute_result"
    },
    {
     "data": {
      "image/png": "[encoded data removed]",
      "text/plain": [
       "<Figure size 864x432 with 1 Axes>"
      ]
     },
     "metadata": {
      "needs_background": "light"
     },
     "output_type": "display_data"
    }
   ],
   "source": [
    "import numpy as np\n",
    "import matplotlib.pyplot as plt\n",
    "x = [\"come\", \"take\", \"make\", \"Aeneas\", \"go\", \"men\", \"God\", \"great\",\"hand\", \"give\", \"father\", \"sea\", \"man\", \"see\", \"Trojan\", \"war\",\"call\",\"say\",\"arm\",\"high\"]\n",
    "y = [430, 364, 316, 297, 283, 280, 262, 262, 255, 249, 241, 237, 222, 207, 199, 196, 195, 194, 193,189]\n",
    "\n",
    "# 柱状图和散点图不同，散点图的(x,y)均为数值变量\n",
    "# 柱状图的x轴显示分类变量，有两种处理方式\n",
    "# 方式1：自己创建x轴坐标，并提供对应的标签\n",
    "# 方式2：让Matplotlib自动完成映射\n",
    "\n",
    "# 方式1\n",
    "# xticks = np.arange(len(x))  # 每根柱子的x轴坐标\n",
    "# xlabels = x  # 每根柱子的标签\n",
    "# fig, ax = plt.subplots(figsize=(10, 7))\n",
    "# ax.bar(x=xticks, height=y, tick_label=xlabels)\n",
    "\n",
    "# 方式2（推荐）\n",
    "fig, ax = plt.subplots(figsize=(12, 6))\n",
    "ax.bar(x=x, height=y, width=0.8,  # 柱子宽度，默认0.8，两根柱子中心的距离默认为1.0\n",
    "    align=\"center\",  # 柱子的对齐方式，'center' or 'edge'\n",
    "    color=\"grey\",  # 柱子颜色\n",
    "   # edgecolor=\"red\",  # 柱子边框的颜色\n",
    "    linewidth=2.0  )\n",
    "ax.set_title(\"Top 20 Most Frequent Words in the Aeneid\", fontsize=15)"
   ]
  },
  {
   "cell_type": "code",
   "execution_count": 18,
   "id": "ac7de65f",
   "metadata": {},
   "outputs": [
    {
     "data": {
      "text/plain": [
       "Text(0.5, 1.0, 'Top 10 Most Frequent Words in Book XII')"
      ]
     },
     "execution_count": 18,
     "metadata": {},
     "output_type": "execute_result"
    },
    {
     "data": {
      "image/png": "[encoded data removed]",
      "text/plain": [
       "<Figure size 576x288 with 1 Axes>"
      ]
     },
     "metadata": {
      "needs_background": "light"
     },
     "output_type": "display_data"
    }
   ],
   "source": [
    "import numpy as np\n",
    "import matplotlib.pyplot as plt\n",
    "x = [\"Turnus\", \"Aeneas\", \"hand\", \"come\", \"go\", \"let\", \"make\", \"spear\", \"men\", \"Trojan\"]\n",
    "y = [28, 27, 26, 23, 22, 20, 20, 20, 19, 18]\n",
    "\n",
    "# 柱状图和散点图不同，散点图的(x,y)均为数值变量\n",
    "# 柱状图的x轴显示分类变量，有两种处理方式\n",
    "# 方式1：自己创建x轴坐标，并提供对应的标签\n",
    "# 方式2：让Matplotlib自动完成映射\n",
    "\n",
    "# 方式1\n",
    "# xticks = np.arange(len(x))  # 每根柱子的x轴坐标\n",
    "# xlabels = x  # 每根柱子的标签\n",
    "# fig, ax = plt.subplots(figsize=(8, 7))\n",
    "# ax.bar(x=xticks, height=y, tick_label=xlabels)\n",
    "\n",
    "# 方式2（推荐）\n",
    "fig, ax = plt.subplots(figsize=(8, 4))\n",
    "ax.bar(x=x, height=y, width=0.6,  # 柱子宽度，默认0.8，两根柱子中心的距离默认为1.0\n",
    "    align=\"center\",  # 柱子的对齐方式，'center' or 'edge'\n",
    "    color=\"grey\",  # 柱子颜色\n",
    "    #edgecolor=\"red\",  # 柱子边框的颜色\n",
    "    linewidth=2.0  )\n"
   ]
  },
  {
   "cell_type": "code",
   "execution_count": null,
   "id": "96a7b619",
   "metadata": {},
   "outputs": [],
   "source": []
  }
 ],
 "metadata": {
  "kernelspec": {
   "display_name": "Python 3 (ipykernel)",
   "language": "python",
   "name": "python3"
  },
  "language_info": {
   "codemirror_mode": {
    "name": "ipython",
    "version": 3
   },
   "file_extension": ".py",
   "mimetype": "text/x-python",
   "name": "python",
   "nbconvert_exporter": "python",
   "pygments_lexer": "ipython3",
   "version": "3.9.7"
  }
 },
 "nbformat": 4,
 "nbformat_minor": 5
}
